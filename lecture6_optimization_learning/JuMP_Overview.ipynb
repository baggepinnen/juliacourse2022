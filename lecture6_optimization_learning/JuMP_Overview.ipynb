{
 "cells": [
  {
   "cell_type": "markdown",
   "metadata": {
    "slideshow": {
     "slide_type": "slide"
    }
   },
   "source": [
    "# Optimization in JuMP\n",
    "\n",
    "Code: https://github.com/JuliaOpt/JuMP.jl Docs: http://www.juliaopt.org/JuMP.jl\n",
    "\n",
    "From the documentation:\n",
    "\n",
    "\"JuMP is a domain-specific modeling language for mathematical optimization embedded in Julia. It currently supports a number of open-source and commercial solvers (see below) for a variety of problem classes, including linear programming, mixed-integer programming, second-order conic programming, semidefinite programming, and nonlinear programming.\"\n",
    "* Simple syntax\n",
    "* Fast\n",
    "* Solver independent language\n",
    "* Supports many solvers\n",
    " - Including: Artelys Knitro, Bonmin, Cbc, Clp, Couenne, CPLEX, ECOS, FICO Xpress, GLPK, Gurobi, Ipopt, MOSEK, NLopt, and SCS.\n",
    "* Written in Julia\n",
    "\n",
    "Note: Not all solvers support all sorts of sets and constraints. This means that you should select a solver after your requirements. But also that you can use very efficient solvers for special problems, such as LP or QP. "
   ]
  },
  {
   "cell_type": "markdown",
   "metadata": {
    "slideshow": {
     "slide_type": "slide"
    }
   },
   "source": [
    "### In JuMP, each model is connected with an optimizer"
   ]
  },
  {
   "cell_type": "code",
   "execution_count": 46,
   "metadata": {
    "slideshow": {
     "slide_type": "fragment"
    }
   },
   "outputs": [
    {
     "name": "stderr",
     "output_type": "stream",
     "text": [
      "\u001b[32m\u001b[1m  Activating\u001b[22m\u001b[39m project at `~/repos/juliacourse2022/lecture6_optimization_learning`\n"
     ]
    },
    {
     "data": {
      "text/plain": [
       "A JuMP Model\n",
       "Feasibility problem with:\n",
       "Variables: 0\n",
       "Model mode: AUTOMATIC\n",
       "CachingOptimizer state: EMPTY_OPTIMIZER\n",
       "Solver name: Ipopt"
      ]
     },
     "execution_count": 46,
     "metadata": {},
     "output_type": "execute_result"
    }
   ],
   "source": [
    "using Pkg; Pkg.activate(\".\")\n",
    "using JuMP, Ipopt\n",
    "model = Model(Ipopt.Optimizer)"
   ]
  },
  {
   "cell_type": "markdown",
   "metadata": {
    "slideshow": {
     "slide_type": "fragment"
    }
   },
   "source": [
    "Variables are defined using `@variable` and connected to a model.\n",
    "Vectors can be defined using `x[1:n]`, and simple constraints can optionally be added"
   ]
  },
  {
   "cell_type": "code",
   "execution_count": 47,
   "metadata": {
    "slideshow": {
     "slide_type": "fragment"
    }
   },
   "outputs": [
    {
     "data": {
      "text/plain": [
       "10-element Vector{VariableRef}:\n",
       " x[1]\n",
       " x[2]\n",
       " x[3]\n",
       " x[4]\n",
       " x[5]\n",
       " x[6]\n",
       " x[7]\n",
       " x[8]\n",
       " x[9]\n",
       " x[10]"
      ]
     },
     "execution_count": 47,
     "metadata": {},
     "output_type": "execute_result"
    }
   ],
   "source": [
    "n = 10\n",
    "@variable(model, x[1:n] >= 0)"
   ]
  },
  {
   "cell_type": "markdown",
   "metadata": {
    "slideshow": {
     "slide_type": "slide"
    }
   },
   "source": [
    "### Adding Constraints\n",
    "Simple constraints can be added using the built in Julia operators, and optionally be given names using\n",
    "\n",
    "`@constraint(model, [name,] constraint)`\n",
    "\n",
    "or \n",
    "\n",
    "`@constraint(model, [name,] expression in MOI.SomeSetHere())`"
   ]
  },
  {
   "cell_type": "code",
   "execution_count": 48,
   "metadata": {
    "slideshow": {
     "slide_type": "fragment"
    }
   },
   "outputs": [
    {
     "data": {
      "text/latex": [
       "firstbig : $ x_{10} \\in \\[1.0, 10.0\\] $"
      ],
      "text/plain": [
       "firstbig : x[10] ∈ [1.0, 10.0]"
      ]
     },
     "execution_count": 48,
     "metadata": {},
     "output_type": "execute_result"
    }
   ],
   "source": [
    "@constraint(model, firstbig, 1 <= x[10] <= 10)"
   ]
  },
  {
   "cell_type": "markdown",
   "metadata": {
    "slideshow": {
     "slide_type": "fragment"
    }
   },
   "source": [
    "And a set of constraints can be created in a simple way"
   ]
  },
  {
   "cell_type": "code",
   "execution_count": 49,
   "metadata": {
    "slideshow": {
     "slide_type": "fragment"
    }
   },
   "outputs": [
    {
     "data": {
      "text/plain": [
       "3-element Vector{ConstraintRef{Model, MathOptInterface.ConstraintIndex{MathOptInterface.ScalarAffineFunction{Float64}, MathOptInterface.LessThan{Float64}}, ScalarShape}}:\n",
       " first3[1] : x[1] ≤ 10.0\n",
       " first3[2] : x[2] ≤ 20.0\n",
       " first3[3] : x[3] ≤ 30.0"
      ]
     },
     "execution_count": 49,
     "metadata": {},
     "output_type": "execute_result"
    }
   ],
   "source": [
    "@constraint(model, first3[k=1:3], x[k] <= 10*k)"
   ]
  },
  {
   "cell_type": "markdown",
   "metadata": {
    "slideshow": {
     "slide_type": "slide"
    }
   },
   "source": [
    "Constraints can then be inspected as expected"
   ]
  },
  {
   "cell_type": "code",
   "execution_count": 50,
   "metadata": {
    "slideshow": {
     "slide_type": "fragment"
    }
   },
   "outputs": [
    {
     "data": {
      "text/latex": [
       "firstbig : $ x_{10} \\in \\[1.0, 10.0\\] $"
      ],
      "text/plain": [
       "firstbig : x[10] ∈ [1.0, 10.0]"
      ]
     },
     "execution_count": 50,
     "metadata": {},
     "output_type": "execute_result"
    }
   ],
   "source": [
    "firstbig"
   ]
  },
  {
   "cell_type": "code",
   "execution_count": 51,
   "metadata": {
    "slideshow": {
     "slide_type": "fragment"
    }
   },
   "outputs": [
    {
     "data": {
      "text/plain": [
       "3-element Vector{ConstraintRef{Model, MathOptInterface.ConstraintIndex{MathOptInterface.ScalarAffineFunction{Float64}, MathOptInterface.LessThan{Float64}}, ScalarShape}}:\n",
       " first3[1] : x[1] ≤ 10.0\n",
       " first3[2] : x[2] ≤ 20.0\n",
       " first3[3] : x[3] ≤ 30.0"
      ]
     },
     "execution_count": 51,
     "metadata": {},
     "output_type": "execute_result"
    }
   ],
   "source": [
    "first3"
   ]
  },
  {
   "cell_type": "markdown",
   "metadata": {
    "slideshow": {
     "slide_type": "slide"
    }
   },
   "source": [
    "And the full model so far can be printed"
   ]
  },
  {
   "cell_type": "code",
   "execution_count": 52,
   "metadata": {
    "slideshow": {
     "slide_type": "fragment"
    }
   },
   "outputs": [
    {
     "data": {
      "text/plain": [
       "A JuMP Model\n",
       "Feasibility problem with:\n",
       "Variables: 10\n",
       "`AffExpr`-in-`MathOptInterface.LessThan{Float64}`: 3 constraints\n",
       "`AffExpr`-in-`MathOptInterface.Interval{Float64}`: 1 constraint\n",
       "`VariableRef`-in-`MathOptInterface.GreaterThan{Float64}`: 10 constraints\n",
       "Model mode: AUTOMATIC\n",
       "CachingOptimizer state: EMPTY_OPTIMIZER\n",
       "Solver name: Ipopt\n",
       "Names registered in the model: first3, firstbig, x"
      ]
     },
     "execution_count": 52,
     "metadata": {},
     "output_type": "execute_result"
    }
   ],
   "source": [
    "model"
   ]
  },
  {
   "cell_type": "markdown",
   "metadata": {
    "slideshow": {
     "slide_type": "slide"
    }
   },
   "source": [
    "Vector constraints can be added with the broadcast syntax `.`"
   ]
  },
  {
   "cell_type": "code",
   "execution_count": 53,
   "metadata": {
    "slideshow": {
     "slide_type": "fragment"
    }
   },
   "outputs": [],
   "source": [
    "using Random\n",
    "Random.seed!(1)\n",
    "m = 3\n",
    "\n",
    "A = randn(m,n)\n",
    "b = randn(m)\n",
    "\n",
    "@constraint(model, A*x .== b);"
   ]
  },
  {
   "cell_type": "markdown",
   "metadata": {
    "slideshow": {
     "slide_type": "slide"
    }
   },
   "source": [
    "Expressions can be built up using `@expression`"
   ]
  },
  {
   "cell_type": "code",
   "execution_count": 54,
   "metadata": {
    "slideshow": {
     "slide_type": "fragment"
    }
   },
   "outputs": [],
   "source": [
    "C = randn(m,n)\n",
    "d = randn(m)\n",
    "\n",
    "ineq = @expression(model, C*x - d);"
   ]
  },
  {
   "cell_type": "markdown",
   "metadata": {
    "slideshow": {
     "slide_type": "fragment"
    }
   },
   "source": [
    "And add constraints for expressions in sets"
   ]
  },
  {
   "cell_type": "code",
   "execution_count": 55,
   "metadata": {
    "slideshow": {
     "slide_type": "fragment"
    }
   },
   "outputs": [],
   "source": [
    "@constraint(model, ineq in MOI.Nonnegatives(m));"
   ]
  },
  {
   "cell_type": "markdown",
   "metadata": {
    "slideshow": {
     "slide_type": "fragment"
    }
   },
   "source": [
    "Or we could simply have written\n",
    "\n",
    "`@constraint(model, C*x .<= d)`"
   ]
  },
  {
   "cell_type": "markdown",
   "metadata": {
    "slideshow": {
     "slide_type": "slide"
    }
   },
   "source": [
    "### Objective\n",
    "Simple cost functions can be defined by\n",
    "\n",
    "`@objective(model, sense, expression)`"
   ]
  },
  {
   "cell_type": "code",
   "execution_count": 56,
   "metadata": {
    "slideshow": {
     "slide_type": "fragment"
    }
   },
   "outputs": [],
   "source": [
    "M = randn(n,n)\n",
    "Q = M*M'\n",
    "p = randn(n)\n",
    "\n",
    "@objective(model, Min,  x'*Q*x - p'*x);"
   ]
  },
  {
   "cell_type": "markdown",
   "metadata": {
    "slideshow": {
     "slide_type": "slide"
    }
   },
   "source": [
    "### Solving\n",
    "the solver is called using `optimize!`\n",
    "and values are accessed using `value`"
   ]
  },
  {
   "cell_type": "code",
   "execution_count": 57,
   "metadata": {
    "slideshow": {
     "slide_type": "fragment"
    }
   },
   "outputs": [
    {
     "name": "stdout",
     "output_type": "stream",
     "text": [
      "termination_status(model) = MathOptInterface.LOCALLY_SOLVED\n"
     ]
    },
    {
     "data": {
      "text/plain": [
       "10-element Vector{Float64}:\n",
       " -9.957239723111236e-9\n",
       "  5.997725363269663e-5\n",
       " -9.785485135521076e-9\n",
       "  0.21334244568329733\n",
       "  3.479068229116638\n",
       "  2.4360694155676086\n",
       "  0.26049938814237145\n",
       "  0.6268970390673398\n",
       "  1.8832589147125205\n",
       "  0.999999990035209"
      ]
     },
     "execution_count": 57,
     "metadata": {},
     "output_type": "execute_result"
    }
   ],
   "source": [
    "set_optimizer_attribute(model, \"print_level\", 0)\n",
    "optimize!(model)\n",
    "\n",
    "@show termination_status(model)\n",
    "sol = value.(x)"
   ]
  },
  {
   "cell_type": "markdown",
   "metadata": {
    "slideshow": {
     "slide_type": "slide"
    }
   },
   "source": [
    "We can also ask the solver for a range of data, such as objective_value, dual variables and so on.\n",
    "\n",
    "See http://www.juliaopt.org/JuMP.jl for details"
   ]
  },
  {
   "cell_type": "code",
   "execution_count": 58,
   "metadata": {
    "slideshow": {
     "slide_type": "fragment"
    }
   },
   "outputs": [
    {
     "name": "stdout",
     "output_type": "stream",
     "text": [
      "objective_value(model) = 90.95132936467664\n",
      "A * sol - b = [0.0, -4.440892098500626e-16, 2.220446049250313e-16]\n",
      "value.(ineq) = [-9.904256637049969e-9, -9.921460986106467e-9, 1.4300490423847958]\n"
     ]
    }
   ],
   "source": [
    "@show objective_value(model)\n",
    "\n",
    "@show A*sol-b         # Should be rougly zero\n",
    "\n",
    "# We can evaluate expressions\n",
    "@show value.(ineq);    # Should be nonnegative"
   ]
  },
  {
   "cell_type": "markdown",
   "metadata": {
    "slideshow": {
     "slide_type": "slide"
    }
   },
   "source": [
    "### General nonlinear programming is also supported by some solvers\n",
    "\n",
    "These objectives and constraints can be entered as\n",
    "\n",
    "`@NLobjective(model, Min, my_function(x, y))`\n",
    "\n",
    "and\n",
    "\n",
    "`@NLconstraint(model, x[1] * x[2] * x[3] * x[4] >= 25)`"
   ]
  }
 ],
 "metadata": {
  "@webio": {
   "lastCommId": null,
   "lastKernelId": null
  },
  "celltoolbar": "Slideshow",
  "kernelspec": {
   "display_name": "Julia 1.8.2",
   "language": "julia",
   "name": "julia-1.8"
  },
  "language_info": {
   "file_extension": ".jl",
   "mimetype": "application/julia",
   "name": "julia",
   "version": "1.8.2"
  }
 },
 "nbformat": 4,
 "nbformat_minor": 2
}
