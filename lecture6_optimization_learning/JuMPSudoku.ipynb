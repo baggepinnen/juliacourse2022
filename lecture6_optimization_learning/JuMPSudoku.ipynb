{
 "cells": [
  {
   "cell_type": "markdown",
   "metadata": {
    "slideshow": {
     "slide_type": "slide"
    }
   },
   "source": [
    "# Solving Sudoku with JuMP - A short version\n",
    "* The numbers 1 to 9 must appear in each 3x3 square\n",
    "* The numbers 1 to 9 must appear in each row\n",
    "* The numbers 1 to 9 must appear in each column\n",
    "\n",
    "Lets pose this as a mixed integer feasibility problem in JuMP!\n"
   ]
  },
  {
   "cell_type": "code",
   "execution_count": 1,
   "metadata": {
    "slideshow": {
     "slide_type": "slide"
    }
   },
   "outputs": [
    {
     "name": "stderr",
     "output_type": "stream",
     "text": [
      "\u001b[32m\u001b[1m  Activating\u001b[22m\u001b[39m project at `~/repos/juliacourse2022/lecture6_optimization_learning`\n"
     ]
    }
   ],
   "source": [
    "using Pkg; Pkg.activate(\".\")\n",
    "using JuMP, GLPK\n",
    "# Create a model\n",
    "sudoku = Model(GLPK.Optimizer);"
   ]
  },
  {
   "cell_type": "markdown",
   "metadata": {
    "slideshow": {
     "slide_type": "subslide"
    }
   },
   "source": [
    "### Create 3 dimensional, binary array `x`\n",
    "\n",
    "`x[i,j,k] = 1`  if and only if cell `(i,j)` has number `k`"
   ]
  },
  {
   "cell_type": "code",
   "execution_count": 2,
   "metadata": {
    "slideshow": {
     "slide_type": "fragment"
    }
   },
   "outputs": [],
   "source": [
    "@variable(sudoku, x[i=1:9, j=1:9, k=1:9], Bin);"
   ]
  },
  {
   "cell_type": "markdown",
   "metadata": {
    "slideshow": {
     "slide_type": "fragment"
    }
   },
   "source": [
    "### Each cell can only contain one number"
   ]
  },
  {
   "cell_type": "code",
   "execution_count": 3,
   "metadata": {
    "slideshow": {
     "slide_type": "fragment"
    }
   },
   "outputs": [],
   "source": [
    "@constraint(sudoku, cell[i=1:9, j=1:9], sum(x[i,j,1:9]) == 1);"
   ]
  },
  {
   "cell_type": "markdown",
   "metadata": {
    "slideshow": {
     "slide_type": "fragment"
    }
   },
   "source": [
    "### Rows and columns should contain each number once "
   ]
  },
  {
   "cell_type": "code",
   "execution_count": 4,
   "metadata": {
    "slideshow": {
     "slide_type": "fragment"
    }
   },
   "outputs": [],
   "source": [
    "@constraint(sudoku, col[i=1:9, k=1:9], sum(x[i,1:9,k]) == 1)\n",
    "@constraint(sudoku, row[j=1:9, k=1:9], sum(x[1:9,j,k]) == 1);"
   ]
  },
  {
   "cell_type": "markdown",
   "metadata": {
    "slideshow": {
     "slide_type": "fragment"
    }
   },
   "source": [
    "### Each box should contain each number once"
   ]
  },
  {
   "cell_type": "code",
   "execution_count": 5,
   "metadata": {
    "slideshow": {
     "slide_type": "fragment"
    }
   },
   "outputs": [],
   "source": [
    "@constraint(sudoku, box[i=1:3:7, j=1:3:7, k=1:9], sum(x[i:i+2,j:j+2,k]) == 1);"
   ]
  },
  {
   "cell_type": "markdown",
   "metadata": {
    "slideshow": {
     "slide_type": "slide"
    }
   },
   "source": [
    "### Let's take an initial guess"
   ]
  },
  {
   "cell_type": "code",
   "execution_count": 6,
   "metadata": {
    "slideshow": {
     "slide_type": "fragment"
    }
   },
   "outputs": [],
   "source": [
    "# The given digits\n",
    "init_sol = [ 5 3 0 0 7 0 0 0 0;\n",
    "             6 0 0 1 9 5 0 0 0;\n",
    "             0 9 8 0 0 0 0 6 0;\n",
    "             8 0 0 0 6 0 0 0 3;\n",
    "             4 0 0 8 0 3 0 0 1;\n",
    "             7 0 0 0 2 0 0 0 6;\n",
    "             0 6 0 0 0 0 2 8 0;\n",
    "             0 0 0 4 1 9 0 0 5;\n",
    "             0 0 0 0 8 0 0 7 9];"
   ]
  },
  {
   "cell_type": "markdown",
   "metadata": {
    "slideshow": {
     "slide_type": "fragment"
    }
   },
   "source": [
    "### And set the constraints"
   ]
  },
  {
   "cell_type": "code",
   "execution_count": 7,
   "metadata": {
    "slideshow": {
     "slide_type": "fragment"
    }
   },
   "outputs": [],
   "source": [
    "# All indices where we have initial constraints\n",
    "ij = [(i,j) for i =1:9 for j=1:9 if init_sol[i,j] != 0]\n",
    "\n",
    "@constraint(sudoku, init[(i,j) in ij], x[i,j,init_sol[i,j]] == 1);"
   ]
  },
  {
   "cell_type": "markdown",
   "metadata": {
    "slideshow": {
     "slide_type": "slide"
    }
   },
   "source": [
    "### We are now ready to solve the problem"
   ]
  },
  {
   "cell_type": "code",
   "execution_count": 8,
   "metadata": {
    "slideshow": {
     "slide_type": "fragment"
    }
   },
   "outputs": [
    {
     "name": "stdout",
     "output_type": "stream",
     "text": [
      "  3.153863 seconds (12.76 M allocations: 879.402 MiB, 5.88% gc time, 99.65% compilation time)\n"
     ]
    },
    {
     "data": {
      "text/plain": [
       "OPTIMAL::TerminationStatusCode = 1"
      ]
     },
     "execution_count": 8,
     "metadata": {},
     "output_type": "execute_result"
    }
   ],
   "source": [
    "@time optimize!(sudoku)\n",
    "termination_status(sudoku)"
   ]
  },
  {
   "cell_type": "markdown",
   "metadata": {
    "slideshow": {
     "slide_type": "slide"
    }
   },
   "source": [
    "### Extract the values of x"
   ]
  },
  {
   "cell_type": "code",
   "execution_count": 9,
   "metadata": {
    "slideshow": {
     "slide_type": "fragment"
    }
   },
   "outputs": [],
   "source": [
    "x_val = round.(Int,value.(x))\n",
    "# Create a matrix to store the solution\n",
    "sol = zeros(Int,9,9)  # 9x9 matrix of integers\n",
    "for i in 1:9, j in 1:9, k in 1:9\n",
    "    if x_val[i,j,k] == 1\n",
    "        sol[i,j] = k\n",
    "    end\n",
    "end"
   ]
  },
  {
   "cell_type": "code",
   "execution_count": 10,
   "metadata": {
    "slideshow": {
     "slide_type": "fragment"
    }
   },
   "outputs": [
    {
     "data": {
      "text/plain": [
       "9×9 Matrix{Int64}:\n",
       " 5  3  4  6  7  8  9  1  2\n",
       " 6  7  2  1  9  5  3  4  8\n",
       " 1  9  8  3  4  2  5  6  7\n",
       " 8  5  9  7  6  1  4  2  3\n",
       " 4  2  6  8  5  3  7  9  1\n",
       " 7  1  3  9  2  4  8  5  6\n",
       " 9  6  1  5  3  7  2  8  4\n",
       " 2  8  7  4  1  9  6  3  5\n",
       " 3  4  5  2  8  6  1  7  9"
      ]
     },
     "execution_count": 10,
     "metadata": {},
     "output_type": "execute_result"
    }
   ],
   "source": [
    "sol"
   ]
  },
  {
   "cell_type": "markdown",
   "metadata": {
    "slideshow": {
     "slide_type": "slide"
    }
   },
   "source": [
    "### Verify"
   ]
  },
  {
   "cell_type": "code",
   "execution_count": 14,
   "metadata": {
    "slideshow": {
     "slide_type": "fragment"
    }
   },
   "outputs": [
    {
     "data": {
      "text/plain": [
       "(true, true, true, true)"
      ]
     },
     "execution_count": 14,
     "metadata": {},
     "output_type": "execute_result"
    }
   ],
   "source": [
    "check(constraint) = all(isequal(1), value.(constraint))\n",
    "\n",
    "check(cell), check(col), check(row), check(box)"
   ]
  },
  {
   "cell_type": "code",
   "execution_count": 12,
   "metadata": {
    "slideshow": {
     "slide_type": "fragment"
    }
   },
   "outputs": [
    {
     "data": {
      "text/plain": [
       "true"
      ]
     },
     "execution_count": 12,
     "metadata": {},
     "output_type": "execute_result"
    }
   ],
   "source": [
    "all(init_sol[i,j] == sol[i,j] for (i,j) in ij)"
   ]
  }
 ],
 "metadata": {
  "@webio": {
   "lastCommId": null,
   "lastKernelId": null
  },
  "celltoolbar": "Slideshow",
  "kernelspec": {
   "display_name": "Julia 1.8.2",
   "language": "julia",
   "name": "julia-1.8"
  },
  "language_info": {
   "file_extension": ".jl",
   "mimetype": "application/julia",
   "name": "julia",
   "version": "1.8.2"
  }
 },
 "nbformat": 4,
 "nbformat_minor": 2
}
